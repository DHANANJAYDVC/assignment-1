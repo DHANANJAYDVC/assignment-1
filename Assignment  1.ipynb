{
 "cells": [
  {
   "cell_type": "markdown",
   "id": "13296f3b",
   "metadata": {},
   "source": [
    "Q1. In the below elements which of them are values or an expression? eg:- values can be integer or string and expressions will be mathematical operators."
   ]
  },
  {
   "cell_type": "markdown",
   "id": "21aaeafb",
   "metadata": {},
   "source": [
    "ANS:- In the below elements:\n",
    "\n",
    "*,-,/,+ are expression\n",
    "\n",
    "'hello' is string\n",
    "\n",
    "6 is a integer\n",
    "\n",
    "-87.8 is a floating number\n",
    "\n",
    "    "
   ]
  },
  {
   "cell_type": "markdown",
   "id": "78460708",
   "metadata": {},
   "source": [
    "Q2. What is the difference between string and variable?"
   ]
  },
  {
   "cell_type": "markdown",
   "id": "92d8c97d",
   "metadata": {},
   "source": [
    "String - string is an array which is represented in an inverted comas(\"\")"
   ]
  },
  {
   "cell_type": "markdown",
   "id": "64456dc2",
   "metadata": {},
   "source": [
    "Variable - variable is an element in which the values are stored or assigned like integer, string, boolean, float"
   ]
  },
  {
   "cell_type": "markdown",
   "id": "cbd600f0",
   "metadata": {},
   "source": [
    "Q3. Describe three different data types."
   ]
  },
  {
   "cell_type": "markdown",
   "id": "b4beabe0",
   "metadata": {},
   "source": [
    "Integer : the values are in numeric or integer form"
   ]
  },
  {
   "cell_type": "markdown",
   "id": "31d589b3",
   "metadata": {},
   "source": [
    "Dictionary: dictionary is an element in which keys and values are stored"
   ]
  },
  {
   "cell_type": "markdown",
   "id": "6a786ac9",
   "metadata": {},
   "source": [
    "Boolean : boolean represent one of the two values which are True and False"
   ]
  },
  {
   "cell_type": "markdown",
   "id": "a674a765",
   "metadata": {},
   "source": [
    "Q4. What is an expression made up of? What do all expressions do?"
   ]
  },
  {
   "cell_type": "markdown",
   "id": "494a943d",
   "metadata": {},
   "source": [
    "Ans:- expression is a combination of operators, variables and operands for example any integer or string is an expression since it represent the value"
   ]
  },
  {
   "cell_type": "markdown",
   "id": "975fba71",
   "metadata": {},
   "source": [
    "Q5. This assignment statements, like spam = 10. What is the difference between an expression and a statement?"
   ]
  },
  {
   "cell_type": "markdown",
   "id": "4cf0def9",
   "metadata": {},
   "source": [
    "Ans:- The diffence between expression and statemnet is expression always produce or return a result value by the interpreted python and the statement execution may or may not produces or displays a result value it only does whatever statement says"
   ]
  },
  {
   "cell_type": "markdown",
   "id": "d44da5dd",
   "metadata": {},
   "source": [
    "Q6. After running the following code, what does the variable bacon contain?\n",
    "\n",
    "bacon = 22\n",
    "\n",
    "bacon + 1\n"
   ]
  },
  {
   "cell_type": "code",
   "execution_count": 1,
   "id": "4ee64754",
   "metadata": {},
   "outputs": [
    {
     "data": {
      "text/plain": [
       "23"
      ]
     },
     "execution_count": 1,
     "metadata": {},
     "output_type": "execute_result"
    }
   ],
   "source": [
    "baccon = 22\n",
    "baccon+1"
   ]
  },
  {
   "cell_type": "markdown",
   "id": "c41eb10c",
   "metadata": {},
   "source": [
    "Q7. What should the values of the following two terms be?\n",
    "\n",
    "'spam' + 'spamspam'\n",
    "\n",
    "'spam' * 3\n"
   ]
  },
  {
   "cell_type": "code",
   "execution_count": 6,
   "id": "999a300f",
   "metadata": {},
   "outputs": [
    {
     "data": {
      "text/plain": [
       "'spamspamspam'"
      ]
     },
     "execution_count": 6,
     "metadata": {},
     "output_type": "execute_result"
    }
   ],
   "source": [
    "'spam'+'spamspam'\n",
    "'spam'*3"
   ]
  },
  {
   "cell_type": "markdown",
   "id": "d29ef197",
   "metadata": {},
   "source": [
    "Q8. Why is eggs a valid variable name while 100 is invalid?"
   ]
  },
  {
   "cell_type": "markdown",
   "id": "5cb7fbdd",
   "metadata": {},
   "source": [
    "Ans:- In an variable names cannot begin with a number a variavle name must start with a alphanumeric form or the underscore character\n",
    "\n",
    "Example :\n",
    "1. dany1\n",
    "\n",
    "2. dany_22\n"
   ]
  },
  {
   "cell_type": "markdown",
   "id": "b9ce9632",
   "metadata": {},
   "source": [
    "Q9. What three functions can be used to get the integer, floating-point number, or string version of a value?"
   ]
  },
  {
   "cell_type": "markdown",
   "id": "22301b67",
   "metadata": {},
   "source": [
    "Ans:- For integer we can use int() function\n",
    "\n",
    "    For floating point number we can use float() function\n",
    "    \n",
    "    For string we can use str() function"
   ]
  },
  {
   "cell_type": "markdown",
   "id": "0889d09e",
   "metadata": {},
   "source": [
    "Q10. Why does this expression cause an error? How can you fix it?\n",
    "\n",
    "'I have eaten ' + 99 + ' burritos.'\n"
   ]
  },
  {
   "cell_type": "markdown",
   "id": "56b08391",
   "metadata": {},
   "source": [
    "Ans:- The cause of an error is that the 99 is integer form and rest of the statements are in string form and we can not print str and int together for that we have to convert 99 in string form"
   ]
  },
  {
   "cell_type": "code",
   "execution_count": 8,
   "id": "5ca8863a",
   "metadata": {},
   "outputs": [
    {
     "data": {
      "text/plain": [
       "'I have eaten99burritos'"
      ]
     },
     "execution_count": 8,
     "metadata": {},
     "output_type": "execute_result"
    }
   ],
   "source": [
    "'I have eaten'+'99'+'burritos'"
   ]
  }
 ],
 "metadata": {
  "kernelspec": {
   "display_name": "Python 3 (ipykernel)",
   "language": "python",
   "name": "python3"
  },
  "language_info": {
   "codemirror_mode": {
    "name": "ipython",
    "version": 3
   },
   "file_extension": ".py",
   "mimetype": "text/x-python",
   "name": "python",
   "nbconvert_exporter": "python",
   "pygments_lexer": "ipython3",
   "version": "3.9.7"
  }
 },
 "nbformat": 4,
 "nbformat_minor": 5
}
